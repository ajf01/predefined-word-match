{
 "cells": [
  {
   "cell_type": "code",
   "execution_count": 1,
   "id": "c9bc250a-31ab-4e3b-9c36-b76f2cf18c7e",
   "metadata": {},
   "outputs": [],
   "source": [
    "#Imports that will be used in the program\n",
    "import pandas as pd\n",
    "import string"
   ]
  },
  {
   "cell_type": "code",
   "execution_count": 2,
   "id": "286225d6-ea8a-4d9d-b6c4-736697e85ad3",
   "metadata": {},
   "outputs": [],
   "source": [
    "#A few of the sample predefined words that were tested against (Only a small subset of all tested cases)\n",
    "predefWords = 'Wrong\\nAI\\nName\\nFirst\\nList\\n   Backwards'\n",
    "#predefWords = ''\n",
    "#predefWords = 'AI'\n",
    "\n",
    "#A few of the sample input texts that were tested against (Only a small subset of all tested cases)\n",
    "#inputText = 'Detecting first names is tricky to do even with AI. \\nhow do you say a street-name is not a first name?'\n",
    "#inputText = '    tricky AI. \\n  street-name listen first:name?'\n",
    "#inputText = ''\n",
    "inputText = 'Backwards Wrong AI Name First List'"
   ]
  },
  {
   "cell_type": "code",
   "execution_count": 3,
   "id": "b6a386e8-21d5-4fe6-8f62-45f723e87a18",
   "metadata": {},
   "outputs": [
    {
     "name": "stdout",
     "output_type": "stream",
     "text": [
      "Backwards Wrong AI Name First List\n"
     ]
    }
   ],
   "source": [
    "#Display what the sample input text file looks like\n",
    "print(inputText)"
   ]
  },
  {
   "cell_type": "code",
   "execution_count": 4,
   "id": "12c68555-f3ac-45fb-91d9-7b466612810d",
   "metadata": {},
   "outputs": [
    {
     "data": {
      "text/plain": [
       "{'wrong': 1, 'ai': 1, 'name': 1, 'first': 1, 'list': 1, 'backwards': 1}"
      ]
     },
     "execution_count": 4,
     "metadata": {},
     "output_type": "execute_result"
    }
   ],
   "source": [
    "#Create a dictionary of counts from predefined words and split the input text by line\n",
    "wordCount = dict(zip(predefWords.translate(str.maketrans('', '', string.punctuation)).lower().split(), [0]*len(predefWords)))\n",
    "splitText = inputText.translate(str.maketrans('', '', string.punctuation)).lower().split()\n",
    "\n",
    "#Loop through the input text and increment match counts in dictionary\n",
    "for x in splitText:\n",
    "    if x in wordCount:\n",
    "        wordCount[x] += 1\n",
    "wordCount"
   ]
  },
  {
   "cell_type": "code",
   "execution_count": 5,
   "id": "2a643f86-e4f5-4b98-9c4d-fef6fb91aee9",
   "metadata": {},
   "outputs": [
    {
     "data": {
      "text/html": [
       "<div>\n",
       "<style scoped>\n",
       "    .dataframe tbody tr th:only-of-type {\n",
       "        vertical-align: middle;\n",
       "    }\n",
       "\n",
       "    .dataframe tbody tr th {\n",
       "        vertical-align: top;\n",
       "    }\n",
       "\n",
       "    .dataframe thead th {\n",
       "        text-align: right;\n",
       "    }\n",
       "</style>\n",
       "<table border=\"1\" class=\"dataframe\">\n",
       "  <thead>\n",
       "    <tr style=\"text-align: right;\">\n",
       "      <th></th>\n",
       "      <th>Predefined word</th>\n",
       "      <th>Match count</th>\n",
       "    </tr>\n",
       "  </thead>\n",
       "  <tbody>\n",
       "    <tr>\n",
       "      <th>0</th>\n",
       "      <td>wrong</td>\n",
       "      <td>1</td>\n",
       "    </tr>\n",
       "    <tr>\n",
       "      <th>1</th>\n",
       "      <td>ai</td>\n",
       "      <td>1</td>\n",
       "    </tr>\n",
       "    <tr>\n",
       "      <th>2</th>\n",
       "      <td>name</td>\n",
       "      <td>1</td>\n",
       "    </tr>\n",
       "    <tr>\n",
       "      <th>3</th>\n",
       "      <td>first</td>\n",
       "      <td>1</td>\n",
       "    </tr>\n",
       "    <tr>\n",
       "      <th>4</th>\n",
       "      <td>list</td>\n",
       "      <td>1</td>\n",
       "    </tr>\n",
       "    <tr>\n",
       "      <th>5</th>\n",
       "      <td>backwards</td>\n",
       "      <td>1</td>\n",
       "    </tr>\n",
       "  </tbody>\n",
       "</table>\n",
       "</div>"
      ],
      "text/plain": [
       "  Predefined word  Match count\n",
       "0           wrong            1\n",
       "1              ai            1\n",
       "2            name            1\n",
       "3           first            1\n",
       "4            list            1\n",
       "5       backwards            1"
      ]
     },
     "execution_count": 5,
     "metadata": {},
     "output_type": "execute_result"
    }
   ],
   "source": [
    "#Create a dataframe from final dictionary and display the result\n",
    "result = pd.DataFrame(data=wordCount.items(), columns=['Predefined word','Match count'])\n",
    "result"
   ]
  },
  {
   "cell_type": "code",
   "execution_count": 6,
   "id": "55e3811a-24d3-4dcc-855c-438011ca495e",
   "metadata": {},
   "outputs": [],
   "source": [
    "def countWords(inputText: str, predefinedWords: str, raiseError: bool = False, displayResult:bool = True) -> None:\n",
    "    #Initialize variables to take in both files and read them\n",
    "    readText = None\n",
    "    checkedWords = None\n",
    "    with open(inputText, 'r') as f:\n",
    "        readText = f.read()\n",
    "    with open(predefinedWords, 'r') as f:\n",
    "        checkedWords = f.read()\n",
    "\n",
    "    #Check to see if an error should be thrown for empty or whitespace files\n",
    "    if (raiseError):\n",
    "        if (len(readText) == 0) or (readText.isspace()):\n",
    "            raise Exception(\"Sorry, the inputText file is empty or only has whitespace\")\n",
    "        if (len(checkedWords) == 0) or (checkedWords.isspace()):\n",
    "            raise Exception(\"Sorry, the predefinedWords file is empty or only has whitespace\")\n",
    "\n",
    "    #Create a dictionary from the predefined words file and split the input text by records\n",
    "    predefCount = dict(zip(checkedWords.translate(str.maketrans('', '', string.punctuation)).lower().split(), [0]*len(checkedWords)))\n",
    "    splitText = readText.translate(str.maketrans('', '', string.punctuation)).lower().split()\n",
    "\n",
    "    #Loop through the input text file to search for matches and increment the count in predefined words dictionary\n",
    "    for x in splitText:\n",
    "        if x in predefCount:\n",
    "            predefCount[x] += 1\n",
    "\n",
    "    #Create a pandas dataframe from dictionary and print out the result as well as save it to a csv file\n",
    "    result = pd.DataFrame(data=predefCount.items(), columns=['Predefined word','Match count'])\n",
    "    if displayResult:\n",
    "        print(result)\n",
    "    result.to_csv('Output.csv',index=False)"
   ]
  },
  {
   "cell_type": "code",
   "execution_count": 7,
   "id": "7e63ab21-b59d-4e7a-b70e-758442ce7acb",
   "metadata": {},
   "outputs": [
    {
     "name": "stdout",
     "output_type": "stream",
     "text": [
      "  Predefined word  Match count\n",
      "0           wrong            1\n",
      "1              ai            3\n",
      "2            name            2\n",
      "3           first            3\n",
      "4            list            1\n",
      "5       backwards            1\n"
     ]
    }
   ],
   "source": [
    "inputText = 'InputFile.txt'\n",
    "predefinedWords = 'PredefinedWords.txt'\n",
    "countWords(inputText, predefinedWords, True)"
   ]
  },
  {
   "cell_type": "code",
   "execution_count": null,
   "id": "426d802c-f8a5-4831-9dc0-cf0f55007af7",
   "metadata": {},
   "outputs": [],
   "source": []
  }
 ],
 "metadata": {
  "kernelspec": {
   "display_name": "Python 3 (ipykernel)",
   "language": "python",
   "name": "python3"
  },
  "language_info": {
   "codemirror_mode": {
    "name": "ipython",
    "version": 3
   },
   "file_extension": ".py",
   "mimetype": "text/x-python",
   "name": "python",
   "nbconvert_exporter": "python",
   "pygments_lexer": "ipython3",
   "version": "3.9.6"
  }
 },
 "nbformat": 4,
 "nbformat_minor": 5
}
